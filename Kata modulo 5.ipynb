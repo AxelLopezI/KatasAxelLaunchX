{
 "cells": [
  {
   "cell_type": "markdown",
   "metadata": {},
   "source": [
    "Ejercicio 1: Utilizar operadores aritméticos"
   ]
  },
  {
   "cell_type": "code",
   "execution_count": 55,
   "metadata": {},
   "outputs": [],
   "source": [
    "planeta_A= 149597870\n",
    "planeta_B = 778547200"
   ]
  },
  {
   "cell_type": "code",
   "execution_count": 56,
   "metadata": {},
   "outputs": [
    {
     "name": "stdout",
     "output_type": "stream",
     "text": [
      "628949330 kilómetros \n",
      "390577533.93 millas\n"
     ]
    }
   ],
   "source": [
    "distancia_km = planeta_B - planeta_A\n",
    "distancia_millas = distancia_km*0.621\n",
    "\n",
    "print(str(distancia_km) + \" kilómetros \\n\" + str(distancia_millas) + \" millas\")"
   ]
  },
  {
   "cell_type": "markdown",
   "metadata": {},
   "source": [
    "Ejercicio 2: Convierte cadenas en números y usa valores absolutos"
   ]
  },
  {
   "cell_type": "code",
   "execution_count": 57,
   "metadata": {},
   "outputs": [],
   "source": [
    "planeta_A = input(\"Escriba la distancia del sol al primer planeta (en kilómetros): \")\n",
    "planeta_B = input(\"Escriba la distancia del sol al segundo planeta (en kilómetros): \")"
   ]
  },
  {
   "cell_type": "code",
   "execution_count": 58,
   "metadata": {},
   "outputs": [],
   "source": [
    "planeta_A = int(planeta_A)\n",
    "planeta_B = int(planeta_B)"
   ]
  },
  {
   "cell_type": "code",
   "execution_count": 59,
   "metadata": {},
   "outputs": [
    {
     "name": "stdout",
     "output_type": "stream",
     "text": [
      "1375600000 kilómetros \n",
      "854247600.0 millas\n"
     ]
    }
   ],
   "source": [
    "distancia_km = planeta_B - planeta_A\n",
    "abs(distancia_km)\n",
    "\n",
    "distancia_millas = distancia_km*0.621\n",
    "\n",
    "print(str(distancia_km) + \" kilómetros \\n\" + str(distancia_millas) + \" millas\")"
   ]
  }
 ],
 "metadata": {
  "interpreter": {
   "hash": "0a6eb782b6f4546242521e1bd41d5462a5c7f0c10c5277d6c428e8096f6786ab"
  },
  "kernelspec": {
   "display_name": "Python 3.9.7 64-bit",
   "language": "python",
   "name": "python3"
  },
  "language_info": {
   "codemirror_mode": {
    "name": "ipython",
    "version": 3
   },
   "file_extension": ".py",
   "mimetype": "text/x-python",
   "name": "python",
   "nbconvert_exporter": "python",
   "pygments_lexer": "ipython3",
   "version": "3.9.7"
  },
  "orig_nbformat": 4
 },
 "nbformat": 4,
 "nbformat_minor": 2
}
