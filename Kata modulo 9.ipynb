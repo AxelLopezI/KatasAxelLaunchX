{
 "cells": [
  {
   "cell_type": "markdown",
   "metadata": {},
   "source": [
    "Ejercicio 1: Trabajar con argumentos en funciones"
   ]
  },
  {
   "cell_type": "code",
   "execution_count": 76,
   "metadata": {},
   "outputs": [],
   "source": [
    "def reporte_combustible(tanque1, tanque2, tanque3):\n",
    "    promedio = (tanque1 + tanque2 + tanque3)/3\n",
    "    return f\"\"\"Reporte:\n",
    "    Promedio: {promedio}%\n",
    "    Tanque 1: {tanque1}%\n",
    "    Tanque 2: {tanque2}%\n",
    "    Tanque 3: {tanque3}% \n",
    "    \"\"\""
   ]
  },
  {
   "cell_type": "code",
   "execution_count": 77,
   "metadata": {},
   "outputs": [
    {
     "name": "stdout",
     "output_type": "stream",
     "text": [
      "Reporte:\n",
      "    Promedio: 24.333333333333332%\n",
      "    Tanque 1: 33%\n",
      "    Tanque 2: 27%\n",
      "    Tanque 3: 13% \n",
      "    \n"
     ]
    }
   ],
   "source": [
    "print(reporte_combustible(33, 27, 13))"
   ]
  },
  {
   "cell_type": "code",
   "execution_count": 78,
   "metadata": {},
   "outputs": [
    {
     "data": {
      "text/plain": [
       "24.333333333333332"
      ]
     },
     "execution_count": 78,
     "metadata": {},
     "output_type": "execute_result"
    }
   ],
   "source": [
    "def promedio(datos):\n",
    "    suma_datos = sum(datos)\n",
    "    cantidad_datos = len(datos)\n",
    "    return suma_datos / cantidad_datos\n",
    "\n",
    "promedio([33, 27, 13]) "
   ]
  },
  {
   "cell_type": "code",
   "execution_count": 79,
   "metadata": {},
   "outputs": [
    {
     "name": "stdout",
     "output_type": "stream",
     "text": [
      "Reporte:\n",
      "    Total Average: 24.333333333333332%\n",
      "    Tanque 1: 33%\n",
      "    Tanque 2: 27%\n",
      "    Tanque 3: 13% \n",
      "    \n"
     ]
    }
   ],
   "source": [
    "def reporte_combustible(tanque1, tanque2, tanque3):\n",
    "    return f\"\"\"Reporte:\n",
    "    Total Average: {promedio([tanque1, tanque2, tanque3])}%\n",
    "    Tanque 1: {tanque1}%\n",
    "    Tanque 2: {tanque2}%\n",
    "    Tanque 3: {tanque3}% \n",
    "    \"\"\"\n",
    "\n",
    "# Call the updated function again with different values\n",
    "print(reporte_combustible(33, 27, 13))"
   ]
  },
  {
   "cell_type": "markdown",
   "metadata": {},
   "source": [
    "Ejercicio 2: Trabajo con argumentos de palabra clave"
   ]
  },
  {
   "cell_type": "code",
   "execution_count": 80,
   "metadata": {},
   "outputs": [
    {
     "name": "stdout",
     "output_type": "stream",
     "text": [
      "\n",
      "    El destino de la misión es Marte\n",
      "    Tiempo de viaje total: 68 minutos\n",
      "    Combustible restante: 350000 galones\n",
      "    \n"
     ]
    }
   ],
   "source": [
    "def informe_mision(hora_prelanzamiento, tiempo_vuelo, destino, tanque_externo, tanque_interno):\n",
    "    return f\"\"\"\n",
    "    El destino de la misión es {destino}\n",
    "    Tiempo de viaje total: {hora_prelanzamiento + tiempo_vuelo} minutos\n",
    "    Combustible restante: {tanque_externo + tanque_interno} galones\n",
    "    \"\"\"\n",
    "\n",
    "print(informe_mision(21, 47, \"Marte\", 100000, 250000))"
   ]
  },
  {
   "cell_type": "code",
   "execution_count": 81,
   "metadata": {},
   "outputs": [
    {
     "name": "stdout",
     "output_type": "stream",
     "text": [
      "\n",
      "    El destino de la misión es Marte\n",
      "    Tiempo de viaje total: 82 minutos\n",
      "    Combustible restante: 350000 galones\n",
      "    \n"
     ]
    }
   ],
   "source": [
    "def informe_mision(destino, *minutos, **combustible_restante):\n",
    "    return f\"\"\"\n",
    "    El destino de la misión es {destino}\n",
    "    Tiempo de viaje total: {sum(minutos)} minutos\n",
    "    Combustible restante: {sum(combustible_restante.values())} galones\n",
    "    \"\"\"\n",
    "\n",
    "print(informe_mision(\"Marte\", 12, 23, 47, interno=250000, externo=100000))"
   ]
  },
  {
   "cell_type": "code",
   "execution_count": 82,
   "metadata": {},
   "outputs": [
    {
     "name": "stdout",
     "output_type": "stream",
     "text": [
      "\n",
      "    El destino de la misión es Marte\n",
      "    Tiempo de viaje total: 71 minutos\n",
      "    Combustible restante: 350000 galones\n",
      "    tanque interno ---> 250000 galones restantes\n",
      "tanque externo ---> 100000 galones restantes\n",
      "\n"
     ]
    }
   ],
   "source": [
    "def informe_mision(destino, *minutos, **combustible_restante):\n",
    "    reporte = f\"\"\"\n",
    "    El destino de la misión es {destino}\n",
    "    Tiempo de viaje total: {sum(minutos)} minutos\n",
    "    Combustible restante: {sum(combustible_restante.values())} galones\n",
    "    \"\"\"\n",
    "    for tanque, galones in combustible_restante.items():\n",
    "        reporte += f\"tanque {tanque} ---> {galones} galones restantes\\n\"\n",
    "    return reporte\n",
    "\n",
    "print(informe_mision(\"Marte\", 9, 14, 48, interno=250000, externo=100000))"
   ]
  }
 ],
 "metadata": {
  "interpreter": {
   "hash": "0a6eb782b6f4546242521e1bd41d5462a5c7f0c10c5277d6c428e8096f6786ab"
  },
  "kernelspec": {
   "display_name": "Python 3.9.7 64-bit",
   "language": "python",
   "name": "python3"
  },
  "language_info": {
   "codemirror_mode": {
    "name": "ipython",
    "version": 3
   },
   "file_extension": ".py",
   "mimetype": "text/x-python",
   "name": "python",
   "nbconvert_exporter": "python",
   "pygments_lexer": "ipython3",
   "version": "3.9.7"
  },
  "orig_nbformat": 4
 },
 "nbformat": 4,
 "nbformat_minor": 2
}
