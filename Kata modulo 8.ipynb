{
 "cells": [
  {
   "cell_type": "markdown",
   "metadata": {},
   "source": [
    "Ejercicio 1: Creación de diccionarios de Python"
   ]
  },
  {
   "cell_type": "code",
   "execution_count": 158,
   "metadata": {},
   "outputs": [],
   "source": [
    "planet = {\n",
    "    \"name\": \"Mars\",\n",
    "    \"moons\": 2\n",
    "}"
   ]
  },
  {
   "cell_type": "code",
   "execution_count": 159,
   "metadata": {},
   "outputs": [
    {
     "name": "stdout",
     "output_type": "stream",
     "text": [
      "Mars has 2 moons\n"
     ]
    }
   ],
   "source": [
    "print(f'{planet.get(\"name\")} has {planet.get(\"moons\")} moons')"
   ]
  },
  {
   "cell_type": "code",
   "execution_count": 160,
   "metadata": {},
   "outputs": [],
   "source": [
    "planet[\"circunferencia (km)\"] = {\n",
    "    \"polar\": 6752,\n",
    "    \"equatorial\": 6792\n",
    "}"
   ]
  },
  {
   "cell_type": "code",
   "execution_count": 161,
   "metadata": {},
   "outputs": [
    {
     "name": "stdout",
     "output_type": "stream",
     "text": [
      "Mars has a polar circumference of 6752\n"
     ]
    }
   ],
   "source": [
    "print(f'{planet.get(\"name\")} has a polar circumference of {planet.get(\"circunferencia (km)\")[\"polar\"]}')"
   ]
  },
  {
   "cell_type": "markdown",
   "metadata": {},
   "source": [
    "Ejercicio 2: Programación dinámica con diccionarios"
   ]
  },
  {
   "cell_type": "code",
   "execution_count": 162,
   "metadata": {},
   "outputs": [],
   "source": [
    "planet_moons = {\n",
    "    'mercury': 0,\n",
    "    'venus': 0,\n",
    "    'earth': 1,\n",
    "    'mars': 2,\n",
    "    'jupiter': 79,\n",
    "    'saturn': 82,\n",
    "    'uranus': 27,\n",
    "    'neptune': 14,\n",
    "    'pluto': 5,\n",
    "    'haumea': 2,\n",
    "    'makemake': 1,\n",
    "    'eris': 1\n",
    "}"
   ]
  },
  {
   "cell_type": "code",
   "execution_count": 163,
   "metadata": {},
   "outputs": [],
   "source": [
    "moons = planet_moons.values()\n",
    "\n",
    "planets = len(planet_moons.keys())"
   ]
  },
  {
   "cell_type": "code",
   "execution_count": 164,
   "metadata": {},
   "outputs": [
    {
     "name": "stdout",
     "output_type": "stream",
     "text": [
      "El promedio de lunas por planeta es de: 17.833333333333332\n"
     ]
    }
   ],
   "source": [
    "total_moons = 0\n",
    "for moon in moons:\n",
    "    total_moons = total_moons + moon\n",
    "\n",
    "promedio = total_moons/planets\n",
    "print(\"El promedio de lunas por planeta es de: \" + str(promedio))"
   ]
  }
 ],
 "metadata": {
  "interpreter": {
   "hash": "0a6eb782b6f4546242521e1bd41d5462a5c7f0c10c5277d6c428e8096f6786ab"
  },
  "kernelspec": {
   "display_name": "Python 3.9.7 64-bit",
   "language": "python",
   "name": "python3"
  },
  "language_info": {
   "codemirror_mode": {
    "name": "ipython",
    "version": 3
   },
   "file_extension": ".py",
   "mimetype": "text/x-python",
   "name": "python",
   "nbconvert_exporter": "python",
   "pygments_lexer": "ipython3",
   "version": "3.9.7"
  },
  "orig_nbformat": 4
 },
 "nbformat": 4,
 "nbformat_minor": 2
}
