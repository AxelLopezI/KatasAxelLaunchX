{
 "cells": [
  {
   "cell_type": "code",
   "execution_count": 5,
   "metadata": {},
   "outputs": [
    {
     "name": "stdout",
     "output_type": "stream",
     "text": [
      "¡ALERTA DE IMPACTO DE ASTEROIDE EN LA TIERRA!\n"
     ]
    }
   ],
   "source": [
    "velocidad_asteroide = 49\n",
    "\n",
    "if velocidad_asteroide>25:\n",
    "    print(\"¡ALERTA DE IMPACTO DE ASTEROIDE EN LA TIERRA!\")\n",
    "else:\n",
    "    print(\"El asteroide no es una amenaza para el planeta Tierra :D\")"
   ]
  },
  {
   "cell_type": "code",
   "execution_count": 12,
   "metadata": {},
   "outputs": [
    {
     "name": "stdout",
     "output_type": "stream",
     "text": [
      "No parece haber alguna señal del asteroide por aquí :/\n"
     ]
    }
   ],
   "source": [
    "velocidad_asteroide = 19\n",
    "\n",
    "if velocidad_asteroide>20:\n",
    "    print(\"¡Puedo ver la luz del asteroide!\")\n",
    "elif velocidad_asteroide==20:\n",
    "    print(\"¡Puedo ver la luz del asteroide!\")\n",
    "else:\n",
    "    print(\"No parece haber ninguna señal del asteroide por aquí :D\")"
   ]
  },
  {
   "cell_type": "code",
   "execution_count": null,
   "metadata": {},
   "outputs": [],
   "source": [
    "velocidad_asteroide = 25\n",
    "\n",
    "tamaño_asteroide = 40\n",
    "\n",
    "if tamaño_asteroide>25 and velocidad_asteroide>25:\n",
    "    print(\"¡ALERTA! Se acerca un meteorito que causará mucho daño a la Tierra.\")\n",
    "elif velocidad_asteroide>=20:\n",
    "    print(\"¡Puedo ver la luz del asteroide!\")\n",
    "elif tamaño_asteroide<25:\n",
    "    print(\"No parece haber ninguna señal del asteroide por aquí :D\")\n",
    "else:\n",
    "    print(\"No parece haber ninguna señal del asteroide por aquí :D\")\n"
   ]
  }
 ],
 "metadata": {
  "interpreter": {
   "hash": "0a6eb782b6f4546242521e1bd41d5462a5c7f0c10c5277d6c428e8096f6786ab"
  },
  "kernelspec": {
   "display_name": "Python 3.9.7 64-bit",
   "language": "python",
   "name": "python3"
  },
  "language_info": {
   "codemirror_mode": {
    "name": "ipython",
    "version": 3
   },
   "file_extension": ".py",
   "mimetype": "text/x-python",
   "name": "python",
   "nbconvert_exporter": "python",
   "pygments_lexer": "ipython3",
   "version": "3.9.7"
  },
  "orig_nbformat": 4
 },
 "nbformat": 4,
 "nbformat_minor": 2
}
